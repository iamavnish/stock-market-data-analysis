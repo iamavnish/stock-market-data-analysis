{
 "cells": [
  {
   "cell_type": "code",
   "execution_count": 2,
   "metadata": {},
   "outputs": [
    {
     "name": "stdout",
     "output_type": "stream",
     "text": [
      "Collecting s3fs\n",
      "  Obtaining dependency information for s3fs from https://files.pythonhosted.org/packages/48/da/8e924dcfe126e402f0c6d967368ceddab9519ee0292ea2312f212722cb1e/s3fs-2024.5.0-py3-none-any.whl.metadata\n",
      "  Downloading s3fs-2024.5.0-py3-none-any.whl.metadata (1.6 kB)\n",
      "Collecting aiobotocore<3.0.0,>=2.5.4 (from s3fs)\n",
      "  Obtaining dependency information for aiobotocore<3.0.0,>=2.5.4 from https://files.pythonhosted.org/packages/6c/53/fb6a7b95af0b2065821a5847d348ec87d5b9f440242eb98c45817459c298/aiobotocore-2.13.0-py3-none-any.whl.metadata\n",
      "  Downloading aiobotocore-2.13.0-py3-none-any.whl.metadata (21 kB)\n",
      "Collecting fsspec==2024.5.0.* (from s3fs)\n",
      "  Obtaining dependency information for fsspec==2024.5.0.* from https://files.pythonhosted.org/packages/ba/a3/16e9fe32187e9c8bc7f9b7bcd9728529faa725231a0c96f2f98714ff2fc5/fsspec-2024.5.0-py3-none-any.whl.metadata\n",
      "  Downloading fsspec-2024.5.0-py3-none-any.whl.metadata (11 kB)\n",
      "Collecting aiohttp!=4.0.0a0,!=4.0.0a1 (from s3fs)\n",
      "  Obtaining dependency information for aiohttp!=4.0.0a0,!=4.0.0a1 from https://files.pythonhosted.org/packages/a4/69/0d415c6d8450842652ce01b29f43416a0f30122b75899de01485623c7850/aiohttp-3.9.5-cp311-cp311-win_amd64.whl.metadata\n",
      "  Using cached aiohttp-3.9.5-cp311-cp311-win_amd64.whl.metadata (7.7 kB)\n",
      "Collecting botocore<1.34.107,>=1.34.70 (from aiobotocore<3.0.0,>=2.5.4->s3fs)\n",
      "  Obtaining dependency information for botocore<1.34.107,>=1.34.70 from https://files.pythonhosted.org/packages/8f/be/323529910f0256f7c2271f6ac4fe90feea5b3c161ed7df3e3b51d0363c19/botocore-1.34.106-py3-none-any.whl.metadata\n",
      "  Downloading botocore-1.34.106-py3-none-any.whl.metadata (5.7 kB)\n",
      "Collecting wrapt<2.0.0,>=1.10.10 (from aiobotocore<3.0.0,>=2.5.4->s3fs)\n",
      "  Obtaining dependency information for wrapt<2.0.0,>=1.10.10 from https://files.pythonhosted.org/packages/cf/c3/0084351951d9579ae83a3d9e38c140371e4c6b038136909235079f2e6e78/wrapt-1.16.0-cp311-cp311-win_amd64.whl.metadata\n",
      "  Using cached wrapt-1.16.0-cp311-cp311-win_amd64.whl.metadata (6.8 kB)\n",
      "Collecting aioitertools<1.0.0,>=0.5.1 (from aiobotocore<3.0.0,>=2.5.4->s3fs)\n",
      "  Obtaining dependency information for aioitertools<1.0.0,>=0.5.1 from https://files.pythonhosted.org/packages/45/66/d1a9fd8e6ff88f2157cb145dd054defb0fd7fe2507fe5a01347e7c690eab/aioitertools-0.11.0-py3-none-any.whl.metadata\n",
      "  Using cached aioitertools-0.11.0-py3-none-any.whl.metadata (3.3 kB)\n",
      "Collecting aiosignal>=1.1.2 (from aiohttp!=4.0.0a0,!=4.0.0a1->s3fs)\n",
      "  Obtaining dependency information for aiosignal>=1.1.2 from https://files.pythonhosted.org/packages/76/ac/a7305707cb852b7e16ff80eaf5692309bde30e2b1100a1fcacdc8f731d97/aiosignal-1.3.1-py3-none-any.whl.metadata\n",
      "  Using cached aiosignal-1.3.1-py3-none-any.whl.metadata (4.0 kB)\n",
      "Collecting attrs>=17.3.0 (from aiohttp!=4.0.0a0,!=4.0.0a1->s3fs)\n",
      "  Obtaining dependency information for attrs>=17.3.0 from https://files.pythonhosted.org/packages/e0/44/827b2a91a5816512fcaf3cc4ebc465ccd5d598c45cefa6703fcf4a79018f/attrs-23.2.0-py3-none-any.whl.metadata\n",
      "  Using cached attrs-23.2.0-py3-none-any.whl.metadata (9.5 kB)\n",
      "Collecting frozenlist>=1.1.1 (from aiohttp!=4.0.0a0,!=4.0.0a1->s3fs)\n",
      "  Obtaining dependency information for frozenlist>=1.1.1 from https://files.pythonhosted.org/packages/b3/21/c5aaffac47fd305d69df46cfbf118768cdf049a92ee6b0b5cb029d449dcf/frozenlist-1.4.1-cp311-cp311-win_amd64.whl.metadata\n",
      "  Using cached frozenlist-1.4.1-cp311-cp311-win_amd64.whl.metadata (12 kB)\n",
      "Collecting multidict<7.0,>=4.5 (from aiohttp!=4.0.0a0,!=4.0.0a1->s3fs)\n",
      "  Obtaining dependency information for multidict<7.0,>=4.5 from https://files.pythonhosted.org/packages/88/aa/ea217cb18325aa05cb3e3111c19715f1e97c50a4a900cbc20e54648de5f5/multidict-6.0.5-cp311-cp311-win_amd64.whl.metadata\n",
      "  Using cached multidict-6.0.5-cp311-cp311-win_amd64.whl.metadata (4.3 kB)\n",
      "Collecting yarl<2.0,>=1.0 (from aiohttp!=4.0.0a0,!=4.0.0a1->s3fs)\n",
      "  Obtaining dependency information for yarl<2.0,>=1.0 from https://files.pythonhosted.org/packages/27/41/945ae9a80590e4fb0be166863c6e63d75e4b35789fa3a61ff1dbdcdc220f/yarl-1.9.4-cp311-cp311-win_amd64.whl.metadata\n",
      "  Using cached yarl-1.9.4-cp311-cp311-win_amd64.whl.metadata (32 kB)\n",
      "Collecting jmespath<2.0.0,>=0.7.1 (from botocore<1.34.107,>=1.34.70->aiobotocore<3.0.0,>=2.5.4->s3fs)\n",
      "  Obtaining dependency information for jmespath<2.0.0,>=0.7.1 from https://files.pythonhosted.org/packages/31/b4/b9b800c45527aadd64d5b442f9b932b00648617eb5d63d2c7a6587b7cafc/jmespath-1.0.1-py3-none-any.whl.metadata\n",
      "  Using cached jmespath-1.0.1-py3-none-any.whl.metadata (7.6 kB)\n",
      "Requirement already satisfied: python-dateutil<3.0.0,>=2.1 in e:\\avnish\\study material\\stock market real time data analysis\\stock-market-data-analysis-venv\\lib\\site-packages (from botocore<1.34.107,>=1.34.70->aiobotocore<3.0.0,>=2.5.4->s3fs) (2.9.0.post0)\n",
      "Collecting urllib3!=2.2.0,<3,>=1.25.4 (from botocore<1.34.107,>=1.34.70->aiobotocore<3.0.0,>=2.5.4->s3fs)\n",
      "  Obtaining dependency information for urllib3!=2.2.0,<3,>=1.25.4 from https://files.pythonhosted.org/packages/a2/73/a68704750a7679d0b6d3ad7aa8d4da8e14e151ae82e6fee774e6e0d05ec8/urllib3-2.2.1-py3-none-any.whl.metadata\n",
      "  Using cached urllib3-2.2.1-py3-none-any.whl.metadata (6.4 kB)\n",
      "Collecting idna>=2.0 (from yarl<2.0,>=1.0->aiohttp!=4.0.0a0,!=4.0.0a1->s3fs)\n",
      "  Obtaining dependency information for idna>=2.0 from https://files.pythonhosted.org/packages/e5/3e/741d8c82801c347547f8a2a06aa57dbb1992be9e948df2ea0eda2c8b79e8/idna-3.7-py3-none-any.whl.metadata\n",
      "  Using cached idna-3.7-py3-none-any.whl.metadata (9.9 kB)\n",
      "Requirement already satisfied: six>=1.5 in e:\\avnish\\study material\\stock market real time data analysis\\stock-market-data-analysis-venv\\lib\\site-packages (from python-dateutil<3.0.0,>=2.1->botocore<1.34.107,>=1.34.70->aiobotocore<3.0.0,>=2.5.4->s3fs) (1.16.0)\n",
      "Downloading s3fs-2024.5.0-py3-none-any.whl (29 kB)\n",
      "Downloading fsspec-2024.5.0-py3-none-any.whl (316 kB)\n",
      "   ---------------------------------------- 0.0/316.1 kB ? eta -:--:--\n",
      "   --------------------------------- ------ 266.2/316.1 kB 8.3 MB/s eta 0:00:01\n",
      "   ---------------------------------------- 316.1/316.1 kB 6.6 MB/s eta 0:00:00\n",
      "Downloading aiobotocore-2.13.0-py3-none-any.whl (76 kB)\n",
      "   ---------------------------------------- 0.0/76.6 kB ? eta -:--:--\n",
      "   ---------------------------------------- 76.6/76.6 kB 4.1 MB/s eta 0:00:00\n",
      "Using cached aiohttp-3.9.5-cp311-cp311-win_amd64.whl (370 kB)\n",
      "Using cached aioitertools-0.11.0-py3-none-any.whl (23 kB)\n",
      "Using cached aiosignal-1.3.1-py3-none-any.whl (7.6 kB)\n",
      "Using cached attrs-23.2.0-py3-none-any.whl (60 kB)\n",
      "Downloading botocore-1.34.106-py3-none-any.whl (12.2 MB)\n",
      "   ---------------------------------------- 0.0/12.2 MB ? eta -:--:--\n",
      "   - -------------------------------------- 0.3/12.2 MB 6.8 MB/s eta 0:00:02\n",
      "   - -------------------------------------- 0.5/12.2 MB 6.8 MB/s eta 0:00:02\n",
      "   -- ------------------------------------- 0.9/12.2 MB 6.1 MB/s eta 0:00:02\n",
      "   --- ------------------------------------ 1.1/12.2 MB 6.4 MB/s eta 0:00:02\n",
      "   ---- ----------------------------------- 1.5/12.2 MB 6.6 MB/s eta 0:00:02\n",
      "   ----- ---------------------------------- 1.7/12.2 MB 6.8 MB/s eta 0:00:02\n",
      "   ------ --------------------------------- 2.0/12.2 MB 6.4 MB/s eta 0:00:02\n",
      "   ------- -------------------------------- 2.2/12.2 MB 6.3 MB/s eta 0:00:02\n",
      "   ------- -------------------------------- 2.4/12.2 MB 5.8 MB/s eta 0:00:02\n",
      "   -------- ------------------------------- 2.7/12.2 MB 5.9 MB/s eta 0:00:02\n",
      "   --------- ------------------------------ 2.8/12.2 MB 5.8 MB/s eta 0:00:02\n",
      "   --------- ------------------------------ 3.0/12.2 MB 5.7 MB/s eta 0:00:02\n",
      "   ----------- ---------------------------- 3.4/12.2 MB 5.8 MB/s eta 0:00:02\n",
      "   ----------- ---------------------------- 3.6/12.2 MB 5.7 MB/s eta 0:00:02\n",
      "   ------------ --------------------------- 3.9/12.2 MB 5.8 MB/s eta 0:00:02\n",
      "   ------------- -------------------------- 4.2/12.2 MB 5.8 MB/s eta 0:00:02\n",
      "   -------------- ------------------------- 4.4/12.2 MB 5.8 MB/s eta 0:00:02\n",
      "   --------------- ------------------------ 4.6/12.2 MB 5.8 MB/s eta 0:00:02\n",
      "   ---------------- ----------------------- 5.0/12.2 MB 5.9 MB/s eta 0:00:02\n",
      "   ----------------- ---------------------- 5.3/12.2 MB 5.9 MB/s eta 0:00:02\n",
      "   ------------------ --------------------- 5.6/12.2 MB 5.9 MB/s eta 0:00:02\n",
      "   ------------------- -------------------- 5.9/12.2 MB 5.8 MB/s eta 0:00:02\n",
      "   -------------------- ------------------- 6.2/12.2 MB 5.9 MB/s eta 0:00:02\n",
      "   --------------------- ------------------ 6.5/12.2 MB 5.9 MB/s eta 0:00:01\n",
      "   --------------------- ------------------ 6.7/12.2 MB 5.9 MB/s eta 0:00:01\n",
      "   ---------------------- ----------------- 6.9/12.2 MB 5.9 MB/s eta 0:00:01\n",
      "   ----------------------- ---------------- 7.1/12.2 MB 5.8 MB/s eta 0:00:01\n",
      "   ------------------------ --------------- 7.4/12.2 MB 5.9 MB/s eta 0:00:01\n",
      "   ------------------------ --------------- 7.6/12.2 MB 5.7 MB/s eta 0:00:01\n",
      "   ------------------------- -------------- 7.8/12.2 MB 5.7 MB/s eta 0:00:01\n",
      "   -------------------------- ------------- 8.1/12.2 MB 5.8 MB/s eta 0:00:01\n",
      "   --------------------------- ------------ 8.4/12.2 MB 5.7 MB/s eta 0:00:01\n",
      "   ---------------------------- ----------- 8.6/12.2 MB 5.7 MB/s eta 0:00:01\n",
      "   ---------------------------- ----------- 8.9/12.2 MB 5.7 MB/s eta 0:00:01\n",
      "   ----------------------------- ---------- 9.2/12.2 MB 5.7 MB/s eta 0:00:01\n",
      "   ------------------------------ --------- 9.5/12.2 MB 5.7 MB/s eta 0:00:01\n",
      "   ------------------------------- -------- 9.7/12.2 MB 5.7 MB/s eta 0:00:01\n",
      "   -------------------------------- ------- 10.0/12.2 MB 5.7 MB/s eta 0:00:01\n",
      "   --------------------------------- ------ 10.3/12.2 MB 5.7 MB/s eta 0:00:01\n",
      "   ---------------------------------- ----- 10.5/12.2 MB 5.6 MB/s eta 0:00:01\n",
      "   ----------------------------------- ---- 10.8/12.2 MB 5.7 MB/s eta 0:00:01\n",
      "   ------------------------------------ --- 11.1/12.2 MB 5.6 MB/s eta 0:00:01\n",
      "   ------------------------------------- -- 11.4/12.2 MB 5.6 MB/s eta 0:00:01\n",
      "   ------------------------------------- -- 11.6/12.2 MB 5.6 MB/s eta 0:00:01\n",
      "   -------------------------------------- - 11.9/12.2 MB 5.5 MB/s eta 0:00:01\n",
      "   ---------------------------------------  12.0/12.2 MB 5.5 MB/s eta 0:00:01\n",
      "   ---------------------------------------  12.2/12.2 MB 5.5 MB/s eta 0:00:01\n",
      "   ---------------------------------------  12.2/12.2 MB 5.5 MB/s eta 0:00:01\n",
      "   ---------------------------------------- 12.2/12.2 MB 5.3 MB/s eta 0:00:00\n",
      "Using cached frozenlist-1.4.1-cp311-cp311-win_amd64.whl (50 kB)\n",
      "Using cached multidict-6.0.5-cp311-cp311-win_amd64.whl (28 kB)\n",
      "Using cached wrapt-1.16.0-cp311-cp311-win_amd64.whl (37 kB)\n",
      "Using cached yarl-1.9.4-cp311-cp311-win_amd64.whl (76 kB)\n",
      "Using cached idna-3.7-py3-none-any.whl (66 kB)\n",
      "Using cached jmespath-1.0.1-py3-none-any.whl (20 kB)\n",
      "Using cached urllib3-2.2.1-py3-none-any.whl (121 kB)\n",
      "Installing collected packages: wrapt, urllib3, multidict, jmespath, idna, fsspec, frozenlist, attrs, aioitertools, yarl, botocore, aiosignal, aiohttp, aiobotocore, s3fs\n",
      "Successfully installed aiobotocore-2.13.0 aiohttp-3.9.5 aioitertools-0.11.0 aiosignal-1.3.1 attrs-23.2.0 botocore-1.34.106 frozenlist-1.4.1 fsspec-2024.5.0 idna-3.7 jmespath-1.0.1 multidict-6.0.5 s3fs-2024.5.0 urllib3-2.2.1 wrapt-1.16.0 yarl-1.9.4\n",
      "Note: you may need to restart the kernel to use updated packages.\n"
     ]
    },
    {
     "name": "stderr",
     "output_type": "stream",
     "text": [
      "\n",
      "[notice] A new release of pip is available: 23.2.1 -> 24.0\n",
      "[notice] To update, run: python.exe -m pip install --upgrade pip\n"
     ]
    }
   ],
   "source": [
    "pip install s3fs"
   ]
  },
  {
   "cell_type": "code",
   "execution_count": 2,
   "metadata": {},
   "outputs": [],
   "source": [
    "from kafka import KafkaConsumer\n",
    "from time import sleep\n",
    "from json import dumps,loads\n",
    "import json\n",
    "from s3fs import S3FileSystem"
   ]
  },
  {
   "cell_type": "code",
   "execution_count": null,
   "metadata": {},
   "outputs": [],
   "source": [
    "consumer = KafkaConsumer(\n",
    "    'stock-market-topic',\n",
    "     bootstrap_servers=['localhost:9092'], #add your IP here\n",
    "     value_deserializer=lambda x: loads(x.decode('utf-8')))"
   ]
  },
  {
   "cell_type": "code",
   "execution_count": null,
   "metadata": {},
   "outputs": [],
   "source": [
    "# for c in consumer:\n",
    "#     print(c.value)"
   ]
  },
  {
   "cell_type": "code",
   "execution_count": 18,
   "metadata": {},
   "outputs": [],
   "source": [
    "s3 = S3FileSystem()"
   ]
  },
  {
   "cell_type": "markdown",
   "metadata": {},
   "source": [
    "Syntax: enumerate(iterable, start=0)\n",
    "\n",
    "Parameters:\n",
    "Iterable: any object that supports iteration\n",
    "Start: the index value from which the counter is to be started, by default it is 0\n",
    "Return: Returns an iterator with (index and element) pairs from the original iterable"
   ]
  },
  {
   "cell_type": "code",
   "execution_count": null,
   "metadata": {},
   "outputs": [
    {
     "name": "stdout",
     "output_type": "stream",
     "text": [
      "0 eat\n",
      "1 sleep\n",
      "2 repeat\n"
     ]
    }
   ],
   "source": [
    "l = [\"eat\", \"sleep\", \"repeat\"]\n",
    "for count, element in enumerate(l):\n",
    "    print (count, element)\n",
    "  "
   ]
  },
  {
   "cell_type": "code",
   "execution_count": null,
   "metadata": {},
   "outputs": [],
   "source": [
    "for count, event in enumerate(consumer):\n",
    "    with s3.open(\"s3://stock-market-data-analysis-avnish/stock_market_{}.json\".format(count), 'w') as file:\n",
    "        json.dump(event.value, file)  "
   ]
  },
  {
   "cell_type": "code",
   "execution_count": null,
   "metadata": {},
   "outputs": [],
   "source": []
  }
 ],
 "metadata": {
  "kernelspec": {
   "display_name": "stock-market-data-analysis-venv",
   "language": "python",
   "name": "python3"
  },
  "language_info": {
   "codemirror_mode": {
    "name": "ipython",
    "version": 3
   },
   "file_extension": ".py",
   "mimetype": "text/x-python",
   "name": "python",
   "nbconvert_exporter": "python",
   "pygments_lexer": "ipython3",
   "version": "3.11.5"
  }
 },
 "nbformat": 4,
 "nbformat_minor": 2
}
